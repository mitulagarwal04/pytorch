{
 "cells": [
  {
   "cell_type": "code",
   "execution_count": 1,
   "id": "7c593334-77e4-4185-bb77-ceb3dbb395b3",
   "metadata": {},
   "outputs": [],
   "source": [
    "import torch"
   ]
  },
  {
   "cell_type": "code",
   "execution_count": 2,
   "id": "e6b6ca17-de67-45e6-b21b-6082c18c76f4",
   "metadata": {},
   "outputs": [
    {
     "data": {
      "text/plain": [
       "tensor(12)"
      ]
     },
     "execution_count": 2,
     "metadata": {},
     "output_type": "execute_result"
    }
   ],
   "source": [
    "torch.tensor(12)"
   ]
  },
  {
   "cell_type": "code",
   "execution_count": 3,
   "id": "9965f77b-4158-476c-8ebc-f6b0f7517e1b",
   "metadata": {
    "scrolled": true
   },
   "outputs": [
    {
     "data": {
      "text/plain": [
       "tensor([-1.8341, -0.8542, -1.5095, -0.6045, -0.0305,  1.2706,  0.8605,  0.4373,\n",
       "         0.8818, -0.2097,  0.0770,  1.6483])"
      ]
     },
     "execution_count": 3,
     "metadata": {},
     "output_type": "execute_result"
    }
   ],
   "source": [
    "torch.randn(12)"
   ]
  },
  {
   "cell_type": "code",
   "execution_count": 4,
   "id": "bf5663c8-dca0-453c-809b-f7613e3bf2bb",
   "metadata": {},
   "outputs": [
    {
     "data": {
      "text/plain": [
       "tensor([[ 1.6769, -1.5603, -2.1569, -0.4373],\n",
       "        [ 1.2141, -0.2285, -0.7524,  2.1166],\n",
       "        [ 0.5180,  0.2211,  0.7288, -0.3417]])"
      ]
     },
     "execution_count": 4,
     "metadata": {},
     "output_type": "execute_result"
    }
   ],
   "source": [
    "torch.randn((3,4))"
   ]
  },
  {
   "cell_type": "code",
   "execution_count": 5,
   "id": "8dc1418a-6d76-4040-a72e-d2f2c44bcb44",
   "metadata": {},
   "outputs": [
    {
     "data": {
      "text/plain": [
       "1.098828673362732"
      ]
     },
     "execution_count": 5,
     "metadata": {},
     "output_type": "execute_result"
    }
   ],
   "source": [
    "torch.randn(3,4)[0][0].item()"
   ]
  },
  {
   "cell_type": "code",
   "execution_count": 6,
   "id": "3371b9f1-25a9-461d-9466-229d11c7fde8",
   "metadata": {},
   "outputs": [
    {
     "data": {
      "text/plain": [
       "2"
      ]
     },
     "execution_count": 6,
     "metadata": {},
     "output_type": "execute_result"
    }
   ],
   "source": [
    "torch.randn(3,4).ndim"
   ]
  },
  {
   "cell_type": "code",
   "execution_count": 7,
   "id": "a6c07cb5-aa1b-486a-9385-6d6cdfeb09b4",
   "metadata": {},
   "outputs": [],
   "source": [
    "random_tensor = torch.randn(2,3,4,5)"
   ]
  },
  {
   "cell_type": "code",
   "execution_count": 8,
   "id": "17940b70-7a34-40e4-b097-98e9ed74141b",
   "metadata": {},
   "outputs": [
    {
     "data": {
      "text/plain": [
       "torch.Size([2, 3, 4, 5])"
      ]
     },
     "execution_count": 8,
     "metadata": {},
     "output_type": "execute_result"
    }
   ],
   "source": [
    "random_tensor.shape"
   ]
  },
  {
   "cell_type": "code",
   "execution_count": 9,
   "id": "39a4c2b0-9677-4401-b9ca-989863a19713",
   "metadata": {},
   "outputs": [
    {
     "data": {
      "text/plain": [
       "4"
      ]
     },
     "execution_count": 9,
     "metadata": {},
     "output_type": "execute_result"
    }
   ],
   "source": [
    "random_tensor.ndim"
   ]
  },
  {
   "cell_type": "code",
   "execution_count": 10,
   "id": "98e7aefa-8b66-44e0-8fd4-2de8cbc0666a",
   "metadata": {
    "scrolled": true
   },
   "outputs": [
    {
     "data": {
      "text/plain": [
       "tensor([[[ 1.1213, -0.0385, -0.6374,  0.4432,  0.3222],\n",
       "         [ 0.6590, -0.6812, -0.7578,  0.4252,  0.9463],\n",
       "         [-1.0805,  0.5885, -0.2731, -1.0458,  0.7455],\n",
       "         [ 0.1154,  0.4260,  1.7849, -0.7642,  0.2733]],\n",
       "\n",
       "        [[-0.5482,  1.1751, -1.3984,  2.7013, -0.1737],\n",
       "         [ 0.0766,  0.4119,  0.7056,  0.6006, -0.8570],\n",
       "         [-0.9761, -0.1835,  1.1577,  0.2799, -0.1719],\n",
       "         [ 0.1785, -2.6530,  0.3400, -0.9734,  0.2604]],\n",
       "\n",
       "        [[ 0.0112, -0.3116, -1.2758, -1.9917,  1.5787],\n",
       "         [ 0.1177,  1.2112, -1.2648,  0.5989,  0.8205],\n",
       "         [ 0.4259,  1.8492, -1.7321, -1.4087,  0.1066],\n",
       "         [-0.0682,  0.4063, -0.6809, -1.7241, -1.0805]]])"
      ]
     },
     "execution_count": 10,
     "metadata": {},
     "output_type": "execute_result"
    }
   ],
   "source": [
    "random_tensor[0]   ## first dimension of the tensor"
   ]
  },
  {
   "cell_type": "code",
   "execution_count": 11,
   "id": "507f2c8e-52ef-46f8-a4af-ea35fd36a975",
   "metadata": {},
   "outputs": [],
   "source": [
    "## randn gives tensor of noraml distribution\n",
    "## rand gives tennsors randomly"
   ]
  },
  {
   "cell_type": "code",
   "execution_count": 12,
   "id": "ceb3ec50-fad3-43d0-84e8-44073cba8323",
   "metadata": {},
   "outputs": [
    {
     "data": {
      "text/plain": [
       "tensor([[[0.8723, 0.4058, 0.2284, 0.6539, 0.3502],\n",
       "         [0.4983, 0.4444, 0.6165, 0.5193, 0.9231],\n",
       "         [0.2696, 0.7780, 0.2771, 0.8811, 0.1520],\n",
       "         [0.1384, 0.6178, 0.1023, 0.0410, 0.7411]],\n",
       "\n",
       "        [[0.5485, 0.2067, 0.2564, 0.6851, 0.2469],\n",
       "         [0.1303, 0.1982, 0.0241, 0.1687, 0.5943],\n",
       "         [0.4909, 0.2776, 0.6586, 0.6972, 0.1181],\n",
       "         [0.2650, 0.3434, 0.9958, 0.7700, 0.0611]],\n",
       "\n",
       "        [[0.6151, 0.3749, 0.9689, 0.4287, 0.2976],\n",
       "         [0.1760, 0.5480, 0.1533, 0.9371, 0.9343],\n",
       "         [0.7070, 0.5903, 0.7190, 0.5811, 0.0949],\n",
       "         [0.9608, 0.5968, 0.0750, 0.2156, 0.4690]]])"
      ]
     },
     "execution_count": 12,
     "metadata": {},
     "output_type": "execute_result"
    }
   ],
   "source": [
    "torch.rand(3,4,5)"
   ]
  },
  {
   "cell_type": "code",
   "execution_count": 13,
   "id": "420fa27a-e46c-4e67-a8a4-fa80f9d4ec5b",
   "metadata": {},
   "outputs": [],
   "source": [
    "zeros = torch.zeros(2,3,4)  ## used for masking tensors, where you can make the tensor value 0."
   ]
  },
  {
   "cell_type": "code",
   "execution_count": 14,
   "id": "954161e6-aee6-497e-a440-9f4fbbc4a3ed",
   "metadata": {},
   "outputs": [],
   "source": [
    "ones = torch.ones(2,3,4)"
   ]
  },
  {
   "cell_type": "code",
   "execution_count": 15,
   "id": "38941792-5778-4bc6-80a7-c3a511b41b4e",
   "metadata": {},
   "outputs": [
    {
     "data": {
      "text/plain": [
       "tensor([[[1., 1., 1., 1.],\n",
       "         [1., 1., 1., 1.],\n",
       "         [1., 1., 1., 1.]],\n",
       "\n",
       "        [[1., 1., 1., 1.],\n",
       "         [1., 1., 1., 1.],\n",
       "         [1., 1., 1., 1.]]])"
      ]
     },
     "execution_count": 15,
     "metadata": {},
     "output_type": "execute_result"
    }
   ],
   "source": [
    "ones"
   ]
  },
  {
   "cell_type": "code",
   "execution_count": 16,
   "id": "148b182e-84bf-4c14-bfac-56d29c9ccc48",
   "metadata": {},
   "outputs": [
    {
     "data": {
      "text/plain": [
       "tensor([[[0., 0., 0., 0.],\n",
       "         [0., 0., 0., 0.],\n",
       "         [0., 0., 0., 0.]],\n",
       "\n",
       "        [[0., 0., 0., 0.],\n",
       "         [0., 0., 0., 0.],\n",
       "         [0., 0., 0., 0.]]])"
      ]
     },
     "execution_count": 16,
     "metadata": {},
     "output_type": "execute_result"
    }
   ],
   "source": [
    "zeros"
   ]
  },
  {
   "cell_type": "code",
   "execution_count": 17,
   "id": "b730cb41-dfbb-479f-89ab-7e9954d7ec32",
   "metadata": {},
   "outputs": [],
   "source": [
    "tensor_range = torch.arange(0,12,2)  "
   ]
  },
  {
   "cell_type": "code",
   "execution_count": 18,
   "id": "e9c2cccc-21aa-41c5-af61-4f8d37c1124e",
   "metadata": {},
   "outputs": [],
   "source": [
    "zero_like_tensor = torch.zeros_like(random_tensor[0][1][1])"
   ]
  },
  {
   "cell_type": "code",
   "execution_count": 19,
   "id": "ff3cea19-2754-4dd0-8dcc-66a7a7678840",
   "metadata": {},
   "outputs": [
    {
     "data": {
      "text/plain": [
       "tensor([0., 0., 0., 0., 0.])"
      ]
     },
     "execution_count": 19,
     "metadata": {},
     "output_type": "execute_result"
    }
   ],
   "source": [
    "zero_like_tensor"
   ]
  },
  {
   "cell_type": "code",
   "execution_count": null,
   "id": "356bea81-320e-46fa-a56c-5f05b58df371",
   "metadata": {},
   "outputs": [],
   "source": []
  },
  {
   "cell_type": "code",
   "execution_count": null,
   "id": "4b06f324-db09-495d-bf36-4f2397b199a4",
   "metadata": {},
   "outputs": [],
   "source": []
  },
  {
   "cell_type": "code",
   "execution_count": 20,
   "id": "18e146b2-c2ce-4605-8702-6d299c5ca036",
   "metadata": {},
   "outputs": [],
   "source": [
    "random_tensor = torch.rand(2,3,4,5)"
   ]
  },
  {
   "cell_type": "code",
   "execution_count": 21,
   "id": "35a90148-7d12-4056-a05f-b4acb3643cd0",
   "metadata": {
    "scrolled": true
   },
   "outputs": [
    {
     "data": {
      "text/plain": [
       "tensor([[[[0.8985, 0.5852, 0.4663, 0.9655, 0.4617],\n",
       "          [0.1373, 0.9886, 0.9402, 0.0429, 0.5576],\n",
       "          [0.5749, 0.7635, 0.3423, 0.1111, 0.0082],\n",
       "          [0.0392, 0.6526, 0.1662, 0.7310, 0.1001]],\n",
       "\n",
       "         [[0.8915, 0.0240, 0.0321, 0.3962, 0.0828],\n",
       "          [0.5234, 0.4931, 0.6297, 0.4392, 0.4592],\n",
       "          [0.4683, 0.8491, 0.3741, 0.0036, 0.5435],\n",
       "          [0.0205, 0.5314, 0.1701, 0.6546, 0.0066]],\n",
       "\n",
       "         [[0.9470, 0.8113, 0.9061, 0.4981, 0.3548],\n",
       "          [0.8802, 0.7181, 0.3038, 0.2606, 0.0341],\n",
       "          [0.8755, 0.7392, 0.2514, 0.5449, 0.1221],\n",
       "          [0.6168, 0.5166, 0.1215, 0.7416, 0.2506]]],\n",
       "\n",
       "\n",
       "        [[[0.5473, 0.6167, 0.2219, 0.5257, 0.8499],\n",
       "          [0.6447, 0.4171, 0.6677, 0.4876, 0.9213],\n",
       "          [0.8541, 0.2041, 0.3766, 0.8093, 0.9943],\n",
       "          [0.2075, 0.2666, 0.5806, 0.9645, 0.6015]],\n",
       "\n",
       "         [[0.1845, 0.2764, 0.4797, 0.7421, 0.2016],\n",
       "          [0.8949, 0.4603, 0.1967, 0.4383, 0.7196],\n",
       "          [0.5339, 0.3922, 0.2037, 0.0359, 0.1115],\n",
       "          [0.1990, 0.8324, 0.5291, 0.3268, 0.2647]],\n",
       "\n",
       "         [[0.0449, 0.0409, 0.4003, 0.7512, 0.5653],\n",
       "          [0.7299, 0.8918, 0.6071, 0.2114, 0.7376],\n",
       "          [0.5675, 0.7087, 0.2341, 0.9125, 0.3119],\n",
       "          [0.2898, 0.2460, 0.8033, 0.8228, 0.5387]]]])"
      ]
     },
     "execution_count": 21,
     "metadata": {},
     "output_type": "execute_result"
    }
   ],
   "source": [
    "random_tensor"
   ]
  },
  {
   "cell_type": "code",
   "execution_count": 22,
   "id": "0e4d85a7-a59f-42e2-864a-ee3371a1a64f",
   "metadata": {},
   "outputs": [],
   "source": [
    "random_tensor[0] = torch.zeros_like(random_tensor[0])"
   ]
  },
  {
   "cell_type": "code",
   "execution_count": 23,
   "id": "33b36eb4-901a-40dc-bdd4-5f4b9045ebe0",
   "metadata": {
    "scrolled": true
   },
   "outputs": [
    {
     "data": {
      "text/plain": [
       "tensor([[[[0.0000, 0.0000, 0.0000, 0.0000, 0.0000],\n",
       "          [0.0000, 0.0000, 0.0000, 0.0000, 0.0000],\n",
       "          [0.0000, 0.0000, 0.0000, 0.0000, 0.0000],\n",
       "          [0.0000, 0.0000, 0.0000, 0.0000, 0.0000]],\n",
       "\n",
       "         [[0.0000, 0.0000, 0.0000, 0.0000, 0.0000],\n",
       "          [0.0000, 0.0000, 0.0000, 0.0000, 0.0000],\n",
       "          [0.0000, 0.0000, 0.0000, 0.0000, 0.0000],\n",
       "          [0.0000, 0.0000, 0.0000, 0.0000, 0.0000]],\n",
       "\n",
       "         [[0.0000, 0.0000, 0.0000, 0.0000, 0.0000],\n",
       "          [0.0000, 0.0000, 0.0000, 0.0000, 0.0000],\n",
       "          [0.0000, 0.0000, 0.0000, 0.0000, 0.0000],\n",
       "          [0.0000, 0.0000, 0.0000, 0.0000, 0.0000]]],\n",
       "\n",
       "\n",
       "        [[[0.5473, 0.6167, 0.2219, 0.5257, 0.8499],\n",
       "          [0.6447, 0.4171, 0.6677, 0.4876, 0.9213],\n",
       "          [0.8541, 0.2041, 0.3766, 0.8093, 0.9943],\n",
       "          [0.2075, 0.2666, 0.5806, 0.9645, 0.6015]],\n",
       "\n",
       "         [[0.1845, 0.2764, 0.4797, 0.7421, 0.2016],\n",
       "          [0.8949, 0.4603, 0.1967, 0.4383, 0.7196],\n",
       "          [0.5339, 0.3922, 0.2037, 0.0359, 0.1115],\n",
       "          [0.1990, 0.8324, 0.5291, 0.3268, 0.2647]],\n",
       "\n",
       "         [[0.0449, 0.0409, 0.4003, 0.7512, 0.5653],\n",
       "          [0.7299, 0.8918, 0.6071, 0.2114, 0.7376],\n",
       "          [0.5675, 0.7087, 0.2341, 0.9125, 0.3119],\n",
       "          [0.2898, 0.2460, 0.8033, 0.8228, 0.5387]]]])"
      ]
     },
     "execution_count": 23,
     "metadata": {},
     "output_type": "execute_result"
    }
   ],
   "source": [
    "random_tensor"
   ]
  },
  {
   "cell_type": "code",
   "execution_count": null,
   "id": "c4cfce3c-949f-4501-b60b-9cac95cffde1",
   "metadata": {},
   "outputs": [],
   "source": []
  },
  {
   "cell_type": "code",
   "execution_count": null,
   "id": "64fe232b-3f4e-4e1a-a425-d0c45152122a",
   "metadata": {},
   "outputs": [],
   "source": []
  },
  {
   "cell_type": "code",
   "execution_count": 24,
   "id": "4bed1acb-f2c9-41c7-b050-35794edadaec",
   "metadata": {},
   "outputs": [
    {
     "ename": "RuntimeError",
     "evalue": "Only Tensors of floating point and complex dtype can require gradients",
     "output_type": "error",
     "traceback": [
      "\u001b[1;31m---------------------------------------------------------------------------\u001b[0m",
      "\u001b[1;31mRuntimeError\u001b[0m                              Traceback (most recent call last)",
      "Cell \u001b[1;32mIn[24], line 1\u001b[0m\n\u001b[1;32m----> 1\u001b[0m int_tensor \u001b[38;5;241m=\u001b[39m torch\u001b[38;5;241m.\u001b[39mtensor([\u001b[38;5;241m1\u001b[39m,\u001b[38;5;241m2\u001b[39m,\u001b[38;5;241m3\u001b[39m,\u001b[38;5;241m4\u001b[39m], dtype\u001b[38;5;241m=\u001b[39mtorch\u001b[38;5;241m.\u001b[39mint32, device\u001b[38;5;241m=\u001b[39m\u001b[38;5;124m'\u001b[39m\u001b[38;5;124mcuda\u001b[39m\u001b[38;5;124m'\u001b[39m, requires_grad \u001b[38;5;241m=\u001b[39m \u001b[38;5;28;01mTrue\u001b[39;00m)\n",
      "\u001b[1;31mRuntimeError\u001b[0m: Only Tensors of floating point and complex dtype can require gradients"
     ]
    }
   ],
   "source": [
    "int_tensor = torch.tensor([1,2,3,4], dtype=torch.int32, device='cuda', requires_grad = True) ## int can't have gradients"
   ]
  },
  {
   "cell_type": "code",
   "execution_count": 25,
   "id": "3d8e19f5-5ce2-49d1-a2b6-3f08a68f2b77",
   "metadata": {},
   "outputs": [],
   "source": [
    "float_tensor = torch.tensor([1,2,3,4], dtype=torch.float64, device='cuda', requires_grad = True) ## int can't have gradients"
   ]
  },
  {
   "cell_type": "code",
   "execution_count": 26,
   "id": "145a63db-88fe-49af-90dc-496e1caf8617",
   "metadata": {},
   "outputs": [
    {
     "data": {
      "text/plain": [
       "tensor([1., 2., 3., 4.], device='cuda:0', dtype=torch.float64,\n",
       "       requires_grad=True)"
      ]
     },
     "execution_count": 26,
     "metadata": {},
     "output_type": "execute_result"
    }
   ],
   "source": [
    "float_tensor"
   ]
  },
  {
   "cell_type": "code",
   "execution_count": 27,
   "id": "62668baf-73dc-4ada-8ca1-1b5c3eccd77c",
   "metadata": {},
   "outputs": [],
   "source": [
    "## MATRIX MULTIPLICATION"
   ]
  },
  {
   "cell_type": "code",
   "execution_count": 28,
   "id": "e71c6e96-2d45-4fed-800b-f8ec3ef0573f",
   "metadata": {},
   "outputs": [
    {
     "data": {
      "text/plain": [
       "tensor([[0.8690, 1.0396, 1.0442, 0.3544],\n",
       "        [0.9751, 1.1253, 1.4362, 0.7406]])"
      ]
     },
     "execution_count": 28,
     "metadata": {},
     "output_type": "execute_result"
    }
   ],
   "source": [
    "torch.matmul(torch.rand(2,3), torch.rand(3,4))"
   ]
  },
  {
   "cell_type": "code",
   "execution_count": 29,
   "id": "60be9c90-60ab-48f3-a416-5e444baea032",
   "metadata": {},
   "outputs": [
    {
     "data": {
      "text/plain": [
       "tensor([[1.2608, 1.1841, 1.0449, 0.7841],\n",
       "        [0.5697, 0.6683, 0.6777, 0.4828]])"
      ]
     },
     "execution_count": 29,
     "metadata": {},
     "output_type": "execute_result"
    }
   ],
   "source": [
    "torch.mm(torch.rand(2,3), torch.rand(3,4))"
   ]
  },
  {
   "cell_type": "code",
   "execution_count": 30,
   "id": "bbe45f2c-7f19-4c28-b5f1-24815f40a9da",
   "metadata": {
    "scrolled": true
   },
   "outputs": [
    {
     "data": {
      "text/plain": [
       "tensor([[1.2105, 1.3794],\n",
       "        [0.9950, 0.9751]])"
      ]
     },
     "execution_count": 30,
     "metadata": {},
     "output_type": "execute_result"
    }
   ],
   "source": [
    "torch.matmul(torch.rand(2,3), torch.rand(2,3).T)"
   ]
  },
  {
   "cell_type": "code",
   "execution_count": 32,
   "id": "4631712b-56c0-4f8e-9ee8-c75fd4e9a5fb",
   "metadata": {},
   "outputs": [],
   "source": [
    "a = torch.rand(2,3)\n",
    "b = torch.rand(2,3)"
   ]
  },
  {
   "cell_type": "code",
   "execution_count": 33,
   "id": "28b20409-5f12-43f6-a112-fb128e0433bd",
   "metadata": {},
   "outputs": [
    {
     "data": {
      "text/plain": [
       "(tensor([[0.3734, 0.4094, 0.5000],\n",
       "         [0.1114, 0.5351, 0.2372]]),\n",
       " tensor([[0.5803, 0.1562, 0.8553],\n",
       "         [0.6037, 0.2760, 0.5807]]))"
      ]
     },
     "execution_count": 33,
     "metadata": {},
     "output_type": "execute_result"
    }
   ],
   "source": [
    "a, b"
   ]
  },
  {
   "cell_type": "code",
   "execution_count": 35,
   "id": "b632a5c1-537c-43cf-ae52-0985db565e5d",
   "metadata": {},
   "outputs": [
    {
     "data": {
      "text/plain": [
       "tensor([[0.7083, 0.6287],\n",
       "        [0.3511, 0.3527]])"
      ]
     },
     "execution_count": 35,
     "metadata": {},
     "output_type": "execute_result"
    }
   ],
   "source": [
    "torch.matmul(a, b.T)"
   ]
  },
  {
   "cell_type": "code",
   "execution_count": 41,
   "id": "b4e8248f-e3b6-471b-ae3d-689edc9887e8",
   "metadata": {},
   "outputs": [],
   "source": [
    "x = torch.arange(0,100,1)"
   ]
  },
  {
   "cell_type": "code",
   "execution_count": 44,
   "id": "945b623c-a122-4b98-a978-773564f76973",
   "metadata": {},
   "outputs": [
    {
     "data": {
      "text/plain": [
       "tensor(49.5000)"
      ]
     },
     "execution_count": 44,
     "metadata": {},
     "output_type": "execute_result"
    }
   ],
   "source": [
    "x.type(torch.float32).mean()"
   ]
  },
  {
   "cell_type": "code",
   "execution_count": 46,
   "id": "4070ec86-de04-4e92-b624-44e0332e0df4",
   "metadata": {},
   "outputs": [
    {
     "data": {
      "text/plain": [
       "(tensor(99), tensor(0))"
      ]
     },
     "execution_count": 46,
     "metadata": {},
     "output_type": "execute_result"
    }
   ],
   "source": [
    "x.max(), x.min()"
   ]
  },
  {
   "cell_type": "code",
   "execution_count": 47,
   "id": "a27d8798-7ba6-457a-bcdc-0882c2c8ff8b",
   "metadata": {},
   "outputs": [
    {
     "data": {
      "text/plain": [
       "(tensor(99), tensor(0))"
      ]
     },
     "execution_count": 47,
     "metadata": {},
     "output_type": "execute_result"
    }
   ],
   "source": [
    "x.shu\n",
    "x.argmax(), x.argmin()"
   ]
  },
  {
   "cell_type": "code",
   "execution_count": 64,
   "id": "2704fddc-2066-4f8a-9696-e4e50cb4bcdb",
   "metadata": {},
   "outputs": [],
   "source": [
    "x = torch.arange(0. ,10)\n",
    "y = torch.arange(12, 22)"
   ]
  },
  {
   "cell_type": "code",
   "execution_count": 50,
   "id": "c76fa9a5-7749-4def-b382-a88349767117",
   "metadata": {},
   "outputs": [
    {
     "data": {
      "text/plain": [
       "tensor([0., 1., 2., 3., 4., 5., 6., 7., 8., 9.])"
      ]
     },
     "execution_count": 50,
     "metadata": {},
     "output_type": "execute_result"
    }
   ],
   "source": [
    "x"
   ]
  },
  {
   "cell_type": "code",
   "execution_count": 51,
   "id": "6147cf91-9ba4-43ec-8000-130b3c1b5859",
   "metadata": {},
   "outputs": [
    {
     "data": {
      "text/plain": [
       "torch.Size([10])"
      ]
     },
     "execution_count": 51,
     "metadata": {},
     "output_type": "execute_result"
    }
   ],
   "source": [
    "x.shape"
   ]
  },
  {
   "cell_type": "code",
   "execution_count": 61,
   "id": "3b312077-3d21-4de4-abf6-73bc9e94d4e4",
   "metadata": {},
   "outputs": [],
   "source": [
    "x = x.reshape(2,5)"
   ]
  },
  {
   "cell_type": "code",
   "execution_count": 55,
   "id": "5742026f-311a-40e6-b62b-4a325cd96962",
   "metadata": {},
   "outputs": [
    {
     "data": {
      "text/plain": [
       "tensor([[0., 1., 2., 3., 4.],\n",
       "        [5., 6., 7., 8., 9.]])"
      ]
     },
     "execution_count": 55,
     "metadata": {},
     "output_type": "execute_result"
    }
   ],
   "source": [
    "x"
   ]
  },
  {
   "cell_type": "code",
   "execution_count": 65,
   "id": "50927776-54e0-4a39-b09a-f653e5c81019",
   "metadata": {},
   "outputs": [
    {
     "data": {
      "text/plain": [
       "tensor([[ 0., 12.],\n",
       "        [ 1., 13.],\n",
       "        [ 2., 14.],\n",
       "        [ 3., 15.],\n",
       "        [ 4., 16.],\n",
       "        [ 5., 17.],\n",
       "        [ 6., 18.],\n",
       "        [ 7., 19.],\n",
       "        [ 8., 20.],\n",
       "        [ 9., 21.]])"
      ]
     },
     "execution_count": 65,
     "metadata": {},
     "output_type": "execute_result"
    }
   ],
   "source": [
    "torch.stack((x, y), dim=1)"
   ]
  },
  {
   "cell_type": "code",
   "execution_count": 66,
   "id": "3368e3c4-1eca-4114-aa5f-1e7edf570f84",
   "metadata": {},
   "outputs": [
    {
     "data": {
      "text/plain": [
       "tensor([[ 0.,  1.,  2.,  3.,  4.,  5.,  6.,  7.,  8.,  9.],\n",
       "        [12., 13., 14., 15., 16., 17., 18., 19., 20., 21.]])"
      ]
     },
     "execution_count": 66,
     "metadata": {},
     "output_type": "execute_result"
    }
   ],
   "source": [
    "torch.stack((x, y), dim=0)"
   ]
  },
  {
   "cell_type": "code",
   "execution_count": 78,
   "id": "2be66f55-39d2-4911-8848-ab82067c07a8",
   "metadata": {},
   "outputs": [],
   "source": [
    "x = x.unsqueeze(dim=1)"
   ]
  },
  {
   "cell_type": "code",
   "execution_count": 79,
   "id": "a0f41d4a-84ae-4c49-a135-850606b39d52",
   "metadata": {},
   "outputs": [
    {
     "data": {
      "text/plain": [
       "tensor([[[0.],\n",
       "         [1.],\n",
       "         [2.],\n",
       "         [3.],\n",
       "         [4.],\n",
       "         [5.],\n",
       "         [6.],\n",
       "         [7.],\n",
       "         [8.],\n",
       "         [9.]]])"
      ]
     },
     "execution_count": 79,
     "metadata": {},
     "output_type": "execute_result"
    }
   ],
   "source": [
    "x.unsqueeze(dim=0)"
   ]
  },
  {
   "cell_type": "code",
   "execution_count": 80,
   "id": "68d0e778-9c8f-4299-86b0-a245c64946a9",
   "metadata": {},
   "outputs": [
    {
     "data": {
      "text/plain": [
       "tensor([[0.],\n",
       "        [1.],\n",
       "        [2.],\n",
       "        [3.],\n",
       "        [4.],\n",
       "        [5.],\n",
       "        [6.],\n",
       "        [7.],\n",
       "        [8.],\n",
       "        [9.]])"
      ]
     },
     "execution_count": 80,
     "metadata": {},
     "output_type": "execute_result"
    }
   ],
   "source": [
    "x"
   ]
  },
  {
   "cell_type": "code",
   "execution_count": 84,
   "id": "c704c7d7-9c33-4fcb-b374-1deeb512812a",
   "metadata": {},
   "outputs": [
    {
     "data": {
      "text/plain": [
       "tensor([[0., 1., 2., 3., 4., 5., 6., 7., 8., 9.]])"
      ]
     },
     "execution_count": 84,
     "metadata": {},
     "output_type": "execute_result"
    }
   ],
   "source": [
    "torch.permute(x, (1,0))"
   ]
  },
  {
   "cell_type": "code",
   "execution_count": 85,
   "id": "259ad6b9-d9ce-433e-bd8a-dc0d63328eb6",
   "metadata": {},
   "outputs": [
    {
     "data": {
      "text/plain": [
       "torch.Size([10, 1])"
      ]
     },
     "execution_count": 85,
     "metadata": {},
     "output_type": "execute_result"
    }
   ],
   "source": [
    "x.shape"
   ]
  },
  {
   "cell_type": "code",
   "execution_count": 86,
   "id": "b1500325-d772-429d-b869-76f0e713a001",
   "metadata": {},
   "outputs": [
    {
     "data": {
      "text/plain": [
       "tensor([[0.],\n",
       "        [1.],\n",
       "        [2.],\n",
       "        [3.],\n",
       "        [4.],\n",
       "        [5.],\n",
       "        [6.],\n",
       "        [7.],\n",
       "        [8.],\n",
       "        [9.]])"
      ]
     },
     "execution_count": 86,
     "metadata": {},
     "output_type": "execute_result"
    }
   ],
   "source": [
    "x"
   ]
  },
  {
   "cell_type": "code",
   "execution_count": 96,
   "id": "675b42a3-38db-4b24-95b5-7e955421c4bd",
   "metadata": {},
   "outputs": [],
   "source": [
    "import numpy as np\n",
    "array = np.arange(1,10, dtype=np.float32)"
   ]
  },
  {
   "cell_type": "code",
   "execution_count": 97,
   "id": "ed19be5d-eaf4-4ec5-834e-7ee2cb95f9d8",
   "metadata": {},
   "outputs": [
    {
     "data": {
      "text/plain": [
       "(dtype('float32'), torch.float32)"
      ]
     },
     "execution_count": 97,
     "metadata": {},
     "output_type": "execute_result"
    }
   ],
   "source": [
    "tensor = torch.from_numpy(array)\n",
    "array.dtype, tensor.dtype"
   ]
  },
  {
   "cell_type": "code",
   "execution_count": 98,
   "id": "33037f33-09f4-46f8-93ed-71a37164eeb9",
   "metadata": {},
   "outputs": [
    {
     "data": {
      "text/plain": [
       "True"
      ]
     },
     "execution_count": 98,
     "metadata": {},
     "output_type": "execute_result"
    }
   ],
   "source": [
    "torch.cuda.is_available()"
   ]
  },
  {
   "cell_type": "code",
   "execution_count": null,
   "id": "ee2363ba-a63a-4181-b672-460209243faf",
   "metadata": {},
   "outputs": [],
   "source": []
  },
  {
   "cell_type": "code",
   "execution_count": null,
   "id": "af671807-580d-4819-ba47-b76d6852e42e",
   "metadata": {},
   "outputs": [],
   "source": []
  },
  {
   "cell_type": "code",
   "execution_count": null,
   "id": "5983c139-04c7-41c2-8308-7c85fb492e3a",
   "metadata": {},
   "outputs": [],
   "source": []
  },
  {
   "cell_type": "code",
   "execution_count": null,
   "id": "e40795a3-b203-4e7a-a6a1-9b4c897af453",
   "metadata": {},
   "outputs": [],
   "source": []
  },
  {
   "cell_type": "code",
   "execution_count": null,
   "id": "f1490db3-346d-47a2-be20-47be226dcaea",
   "metadata": {},
   "outputs": [],
   "source": []
  },
  {
   "cell_type": "code",
   "execution_count": null,
   "id": "98c45443-c438-4316-96a3-34cbb9f1bee2",
   "metadata": {},
   "outputs": [],
   "source": []
  },
  {
   "cell_type": "code",
   "execution_count": null,
   "id": "ea048b70-51c3-4395-9ab5-476df55923d2",
   "metadata": {},
   "outputs": [],
   "source": []
  },
  {
   "cell_type": "code",
   "execution_count": null,
   "id": "461bd6c9-0c45-428a-9521-63d8a3a7a3c6",
   "metadata": {},
   "outputs": [],
   "source": []
  },
  {
   "cell_type": "code",
   "execution_count": null,
   "id": "1e91989c-7acd-48bd-99fb-ed8a39408c33",
   "metadata": {},
   "outputs": [],
   "source": []
  },
  {
   "cell_type": "code",
   "execution_count": null,
   "id": "8e83b622-ef84-4240-900c-e8d139bfc0a2",
   "metadata": {},
   "outputs": [],
   "source": []
  },
  {
   "cell_type": "code",
   "execution_count": null,
   "id": "2800f2ff-cb54-4aa8-8e3b-8bef46ee0723",
   "metadata": {},
   "outputs": [],
   "source": []
  },
  {
   "cell_type": "code",
   "execution_count": null,
   "id": "2ed316bc-e140-4930-94e3-c58c0f70239b",
   "metadata": {},
   "outputs": [],
   "source": []
  }
 ],
 "metadata": {
  "kernelspec": {
   "display_name": "Python 3 (ipykernel)",
   "language": "python",
   "name": "python3"
  },
  "language_info": {
   "codemirror_mode": {
    "name": "ipython",
    "version": 3
   },
   "file_extension": ".py",
   "mimetype": "text/x-python",
   "name": "python",
   "nbconvert_exporter": "python",
   "pygments_lexer": "ipython3",
   "version": "3.12.5"
  }
 },
 "nbformat": 4,
 "nbformat_minor": 5
}
