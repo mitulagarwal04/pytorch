{
 "cells": [
  {
   "cell_type": "code",
   "execution_count": 1,
   "id": "5a8e89fe-52c7-4f1f-96ee-5c2495fe6037",
   "metadata": {},
   "outputs": [],
   "source": [
    "import torch\n",
    "from torch import nn\n",
    "import torchvision\n",
    "from torchvision import datasets\n",
    "from torchvision import transforms\n",
    "from torchvision.transforms import ToTensor\n",
    "import matplotlib.pyplot as plt\n",
    "import helper_functions"
   ]
  },
  {
   "cell_type": "code",
   "execution_count": 2,
   "id": "13107894-1579-4e8a-9036-68fb22eab123",
   "metadata": {},
   "outputs": [
    {
     "data": {
      "text/plain": [
       "('2.4.1', '0.19.1')"
      ]
     },
     "execution_count": 2,
     "metadata": {},
     "output_type": "execute_result"
    }
   ],
   "source": [
    "torch.__version__, torchvision.__version__"
   ]
  },
  {
   "cell_type": "code",
   "execution_count": 3,
   "id": "240bdd5e-2df0-49d0-a15f-11681d4d0e69",
   "metadata": {},
   "outputs": [],
   "source": [
    "train_data = datasets.FashionMNIST(\n",
    "    root = \"data\", \n",
    "    train = True, \n",
    "    download = True, \n",
    "    transform = ToTensor(),\n",
    "    target_transform = None\n",
    ")\n",
    "\n",
    "test_data = datasets.FashionMNIST(\n",
    "    root = \"data\",\n",
    "    train = False,\n",
    "    download = True,\n",
    "    transform = ToTensor(),\n",
    "    target_transform = None\n",
    ")"
   ]
  },
  {
   "cell_type": "code",
   "execution_count": 4,
   "id": "e08570ac-4aad-44c4-99dd-3b04158df82a",
   "metadata": {},
   "outputs": [
    {
     "data": {
      "text/plain": [
       "(60000, 10000)"
      ]
     },
     "execution_count": 4,
     "metadata": {},
     "output_type": "execute_result"
    }
   ],
   "source": [
    "len(train_data), len(test_data)"
   ]
  },
  {
   "cell_type": "code",
   "execution_count": 5,
   "id": "236f4937-e6e0-4ebd-9d9e-a7b2ea6ade48",
   "metadata": {},
   "outputs": [],
   "source": [
    "image, label = train_data[0]"
   ]
  },
  {
   "cell_type": "code",
   "execution_count": 6,
   "id": "bfe9a4a9-31e9-47a9-a209-d72fb9a4ec4e",
   "metadata": {
    "scrolled": true
   },
   "outputs": [
    {
     "data": {
      "text/plain": [
       "(tensor([[[0.0000, 0.0000, 0.0000, 0.0000, 0.0000, 0.0000, 0.0000, 0.0000,\n",
       "           0.0000, 0.0000, 0.0000, 0.0000, 0.0000, 0.0000, 0.0000, 0.0000,\n",
       "           0.0000, 0.0000, 0.0000, 0.0000, 0.0000, 0.0000, 0.0000, 0.0000,\n",
       "           0.0000, 0.0000, 0.0000, 0.0000],\n",
       "          [0.0000, 0.0000, 0.0000, 0.0000, 0.0000, 0.0000, 0.0000, 0.0000,\n",
       "           0.0000, 0.0000, 0.0000, 0.0000, 0.0000, 0.0000, 0.0000, 0.0000,\n",
       "           0.0000, 0.0000, 0.0000, 0.0000, 0.0000, 0.0000, 0.0000, 0.0000,\n",
       "           0.0000, 0.0000, 0.0000, 0.0000],\n",
       "          [0.0000, 0.0000, 0.0000, 0.0000, 0.0000, 0.0000, 0.0000, 0.0000,\n",
       "           0.0000, 0.0000, 0.0000, 0.0000, 0.0000, 0.0000, 0.0000, 0.0000,\n",
       "           0.0000, 0.0000, 0.0000, 0.0000, 0.0000, 0.0000, 0.0000, 0.0000,\n",
       "           0.0000, 0.0000, 0.0000, 0.0000],\n",
       "          [0.0000, 0.0000, 0.0000, 0.0000, 0.0000, 0.0000, 0.0000, 0.0000,\n",
       "           0.0000, 0.0000, 0.0000, 0.0000, 0.0039, 0.0000, 0.0000, 0.0510,\n",
       "           0.2863, 0.0000, 0.0000, 0.0039, 0.0157, 0.0000, 0.0000, 0.0000,\n",
       "           0.0000, 0.0039, 0.0039, 0.0000],\n",
       "          [0.0000, 0.0000, 0.0000, 0.0000, 0.0000, 0.0000, 0.0000, 0.0000,\n",
       "           0.0000, 0.0000, 0.0000, 0.0000, 0.0118, 0.0000, 0.1412, 0.5333,\n",
       "           0.4980, 0.2431, 0.2118, 0.0000, 0.0000, 0.0000, 0.0039, 0.0118,\n",
       "           0.0157, 0.0000, 0.0000, 0.0118],\n",
       "          [0.0000, 0.0000, 0.0000, 0.0000, 0.0000, 0.0000, 0.0000, 0.0000,\n",
       "           0.0000, 0.0000, 0.0000, 0.0000, 0.0235, 0.0000, 0.4000, 0.8000,\n",
       "           0.6902, 0.5255, 0.5647, 0.4824, 0.0902, 0.0000, 0.0000, 0.0000,\n",
       "           0.0000, 0.0471, 0.0392, 0.0000],\n",
       "          [0.0000, 0.0000, 0.0000, 0.0000, 0.0000, 0.0000, 0.0000, 0.0000,\n",
       "           0.0000, 0.0000, 0.0000, 0.0000, 0.0000, 0.0000, 0.6078, 0.9255,\n",
       "           0.8118, 0.6980, 0.4196, 0.6118, 0.6314, 0.4275, 0.2510, 0.0902,\n",
       "           0.3020, 0.5098, 0.2824, 0.0588],\n",
       "          [0.0000, 0.0000, 0.0000, 0.0000, 0.0000, 0.0000, 0.0000, 0.0000,\n",
       "           0.0000, 0.0000, 0.0000, 0.0039, 0.0000, 0.2706, 0.8118, 0.8745,\n",
       "           0.8549, 0.8471, 0.8471, 0.6392, 0.4980, 0.4745, 0.4784, 0.5725,\n",
       "           0.5529, 0.3451, 0.6745, 0.2588],\n",
       "          [0.0000, 0.0000, 0.0000, 0.0000, 0.0000, 0.0000, 0.0000, 0.0000,\n",
       "           0.0000, 0.0039, 0.0039, 0.0039, 0.0000, 0.7843, 0.9098, 0.9098,\n",
       "           0.9137, 0.8980, 0.8745, 0.8745, 0.8431, 0.8353, 0.6431, 0.4980,\n",
       "           0.4824, 0.7686, 0.8980, 0.0000],\n",
       "          [0.0000, 0.0000, 0.0000, 0.0000, 0.0000, 0.0000, 0.0000, 0.0000,\n",
       "           0.0000, 0.0000, 0.0000, 0.0000, 0.0000, 0.7176, 0.8824, 0.8471,\n",
       "           0.8745, 0.8941, 0.9216, 0.8902, 0.8784, 0.8706, 0.8784, 0.8667,\n",
       "           0.8745, 0.9608, 0.6784, 0.0000],\n",
       "          [0.0000, 0.0000, 0.0000, 0.0000, 0.0000, 0.0000, 0.0000, 0.0000,\n",
       "           0.0000, 0.0000, 0.0000, 0.0000, 0.0000, 0.7569, 0.8941, 0.8549,\n",
       "           0.8353, 0.7765, 0.7059, 0.8314, 0.8235, 0.8275, 0.8353, 0.8745,\n",
       "           0.8627, 0.9529, 0.7922, 0.0000],\n",
       "          [0.0000, 0.0000, 0.0000, 0.0000, 0.0000, 0.0000, 0.0000, 0.0000,\n",
       "           0.0000, 0.0039, 0.0118, 0.0000, 0.0471, 0.8588, 0.8627, 0.8314,\n",
       "           0.8549, 0.7529, 0.6627, 0.8902, 0.8157, 0.8549, 0.8784, 0.8314,\n",
       "           0.8863, 0.7725, 0.8196, 0.2039],\n",
       "          [0.0000, 0.0000, 0.0000, 0.0000, 0.0000, 0.0000, 0.0000, 0.0000,\n",
       "           0.0000, 0.0000, 0.0235, 0.0000, 0.3882, 0.9569, 0.8706, 0.8627,\n",
       "           0.8549, 0.7961, 0.7765, 0.8667, 0.8431, 0.8353, 0.8706, 0.8627,\n",
       "           0.9608, 0.4667, 0.6549, 0.2196],\n",
       "          [0.0000, 0.0000, 0.0000, 0.0000, 0.0000, 0.0000, 0.0000, 0.0000,\n",
       "           0.0000, 0.0157, 0.0000, 0.0000, 0.2157, 0.9255, 0.8941, 0.9020,\n",
       "           0.8941, 0.9412, 0.9098, 0.8353, 0.8549, 0.8745, 0.9176, 0.8510,\n",
       "           0.8510, 0.8196, 0.3608, 0.0000],\n",
       "          [0.0000, 0.0000, 0.0039, 0.0157, 0.0235, 0.0275, 0.0078, 0.0000,\n",
       "           0.0000, 0.0000, 0.0000, 0.0000, 0.9294, 0.8863, 0.8510, 0.8745,\n",
       "           0.8706, 0.8588, 0.8706, 0.8667, 0.8471, 0.8745, 0.8980, 0.8431,\n",
       "           0.8549, 1.0000, 0.3020, 0.0000],\n",
       "          [0.0000, 0.0118, 0.0000, 0.0000, 0.0000, 0.0000, 0.0000, 0.0000,\n",
       "           0.0000, 0.2431, 0.5686, 0.8000, 0.8941, 0.8118, 0.8353, 0.8667,\n",
       "           0.8549, 0.8157, 0.8275, 0.8549, 0.8784, 0.8745, 0.8588, 0.8431,\n",
       "           0.8784, 0.9569, 0.6235, 0.0000],\n",
       "          [0.0000, 0.0000, 0.0000, 0.0000, 0.0706, 0.1725, 0.3216, 0.4196,\n",
       "           0.7412, 0.8941, 0.8627, 0.8706, 0.8510, 0.8863, 0.7843, 0.8039,\n",
       "           0.8275, 0.9020, 0.8784, 0.9176, 0.6902, 0.7373, 0.9804, 0.9725,\n",
       "           0.9137, 0.9333, 0.8431, 0.0000],\n",
       "          [0.0000, 0.2235, 0.7333, 0.8157, 0.8784, 0.8667, 0.8784, 0.8157,\n",
       "           0.8000, 0.8392, 0.8157, 0.8196, 0.7843, 0.6235, 0.9608, 0.7569,\n",
       "           0.8078, 0.8745, 1.0000, 1.0000, 0.8667, 0.9176, 0.8667, 0.8275,\n",
       "           0.8627, 0.9098, 0.9647, 0.0000],\n",
       "          [0.0118, 0.7922, 0.8941, 0.8784, 0.8667, 0.8275, 0.8275, 0.8392,\n",
       "           0.8039, 0.8039, 0.8039, 0.8627, 0.9412, 0.3137, 0.5882, 1.0000,\n",
       "           0.8980, 0.8667, 0.7373, 0.6039, 0.7490, 0.8235, 0.8000, 0.8196,\n",
       "           0.8706, 0.8941, 0.8824, 0.0000],\n",
       "          [0.3843, 0.9137, 0.7765, 0.8235, 0.8706, 0.8980, 0.8980, 0.9176,\n",
       "           0.9765, 0.8627, 0.7608, 0.8431, 0.8510, 0.9451, 0.2549, 0.2863,\n",
       "           0.4157, 0.4588, 0.6588, 0.8588, 0.8667, 0.8431, 0.8510, 0.8745,\n",
       "           0.8745, 0.8784, 0.8980, 0.1137],\n",
       "          [0.2941, 0.8000, 0.8314, 0.8000, 0.7569, 0.8039, 0.8275, 0.8824,\n",
       "           0.8471, 0.7255, 0.7725, 0.8078, 0.7765, 0.8353, 0.9412, 0.7647,\n",
       "           0.8902, 0.9608, 0.9373, 0.8745, 0.8549, 0.8314, 0.8196, 0.8706,\n",
       "           0.8627, 0.8667, 0.9020, 0.2627],\n",
       "          [0.1882, 0.7961, 0.7176, 0.7608, 0.8353, 0.7725, 0.7255, 0.7451,\n",
       "           0.7608, 0.7529, 0.7922, 0.8392, 0.8588, 0.8667, 0.8627, 0.9255,\n",
       "           0.8824, 0.8471, 0.7804, 0.8078, 0.7294, 0.7098, 0.6941, 0.6745,\n",
       "           0.7098, 0.8039, 0.8078, 0.4510],\n",
       "          [0.0000, 0.4784, 0.8588, 0.7569, 0.7020, 0.6706, 0.7176, 0.7686,\n",
       "           0.8000, 0.8235, 0.8353, 0.8118, 0.8275, 0.8235, 0.7843, 0.7686,\n",
       "           0.7608, 0.7490, 0.7647, 0.7490, 0.7765, 0.7529, 0.6902, 0.6118,\n",
       "           0.6549, 0.6941, 0.8235, 0.3608],\n",
       "          [0.0000, 0.0000, 0.2902, 0.7412, 0.8314, 0.7490, 0.6863, 0.6745,\n",
       "           0.6863, 0.7098, 0.7255, 0.7373, 0.7412, 0.7373, 0.7569, 0.7765,\n",
       "           0.8000, 0.8196, 0.8235, 0.8235, 0.8275, 0.7373, 0.7373, 0.7608,\n",
       "           0.7529, 0.8471, 0.6667, 0.0000],\n",
       "          [0.0078, 0.0000, 0.0000, 0.0000, 0.2588, 0.7843, 0.8706, 0.9294,\n",
       "           0.9373, 0.9490, 0.9647, 0.9529, 0.9569, 0.8667, 0.8627, 0.7569,\n",
       "           0.7490, 0.7020, 0.7137, 0.7137, 0.7098, 0.6902, 0.6510, 0.6588,\n",
       "           0.3882, 0.2275, 0.0000, 0.0000],\n",
       "          [0.0000, 0.0000, 0.0000, 0.0000, 0.0000, 0.0000, 0.0000, 0.1569,\n",
       "           0.2392, 0.1725, 0.2824, 0.1608, 0.1373, 0.0000, 0.0000, 0.0000,\n",
       "           0.0000, 0.0000, 0.0000, 0.0000, 0.0000, 0.0000, 0.0000, 0.0000,\n",
       "           0.0000, 0.0000, 0.0000, 0.0000],\n",
       "          [0.0000, 0.0000, 0.0000, 0.0000, 0.0000, 0.0000, 0.0000, 0.0000,\n",
       "           0.0000, 0.0000, 0.0000, 0.0000, 0.0000, 0.0000, 0.0000, 0.0000,\n",
       "           0.0000, 0.0000, 0.0000, 0.0000, 0.0000, 0.0000, 0.0000, 0.0000,\n",
       "           0.0000, 0.0000, 0.0000, 0.0000],\n",
       "          [0.0000, 0.0000, 0.0000, 0.0000, 0.0000, 0.0000, 0.0000, 0.0000,\n",
       "           0.0000, 0.0000, 0.0000, 0.0000, 0.0000, 0.0000, 0.0000, 0.0000,\n",
       "           0.0000, 0.0000, 0.0000, 0.0000, 0.0000, 0.0000, 0.0000, 0.0000,\n",
       "           0.0000, 0.0000, 0.0000, 0.0000]]]),\n",
       " 9,\n",
       " torch.Size([1, 28, 28]))"
      ]
     },
     "execution_count": 6,
     "metadata": {},
     "output_type": "execute_result"
    }
   ],
   "source": [
    "image, label, image.shape"
   ]
  },
  {
   "cell_type": "code",
   "execution_count": 7,
   "id": "5e78b225-79d0-4f29-a968-7c4aa7a645b8",
   "metadata": {},
   "outputs": [],
   "source": [
    "class_names = train_data.classes"
   ]
  },
  {
   "cell_type": "code",
   "execution_count": 8,
   "id": "2b197953-7bc0-4220-a25b-a7ecd1c74a08",
   "metadata": {
    "scrolled": true
   },
   "outputs": [
    {
     "data": {
      "text/plain": [
       "{'T-shirt/top': 0,\n",
       " 'Trouser': 1,\n",
       " 'Pullover': 2,\n",
       " 'Dress': 3,\n",
       " 'Coat': 4,\n",
       " 'Sandal': 5,\n",
       " 'Shirt': 6,\n",
       " 'Sneaker': 7,\n",
       " 'Bag': 8,\n",
       " 'Ankle boot': 9}"
      ]
     },
     "execution_count": 8,
     "metadata": {},
     "output_type": "execute_result"
    }
   ],
   "source": [
    "class_to_idx = train_data.class_to_idx\n",
    "class_to_idx"
   ]
  },
  {
   "cell_type": "code",
   "execution_count": 9,
   "id": "ec1dc192-1366-4ade-8d96-ccdf2c21d34b",
   "metadata": {},
   "outputs": [
    {
     "data": {
      "text/plain": [
       "tensor([9, 0, 0,  ..., 3, 0, 5])"
      ]
     },
     "execution_count": 9,
     "metadata": {},
     "output_type": "execute_result"
    }
   ],
   "source": [
    "train_data.targets"
   ]
  },
  {
   "cell_type": "code",
   "execution_count": 10,
   "id": "7c2424fd-ca59-4085-97f1-b0cb2c53acfd",
   "metadata": {},
   "outputs": [
    {
     "data": {
      "text/plain": [
       "(torch.Size([1, 28, 28]), 9)"
      ]
     },
     "execution_count": 10,
     "metadata": {},
     "output_type": "execute_result"
    }
   ],
   "source": [
    "image.shape, label ## images are in the order Channel * Height * Width"
   ]
  },
  {
   "cell_type": "code",
   "execution_count": 11,
   "id": "60f9083b-484b-4583-8302-6c4a21f4e77a",
   "metadata": {
    "scrolled": true
   },
   "outputs": [
    {
     "data": {
      "image/png": "[encoded data removed]",
      "text/plain": [
       "<Figure size 500x300 with 1 Axes>"
      ]
     },
     "metadata": {},
     "output_type": "display_data"
    }
   ],
   "source": [
    "plt.figure(figsize=(5,3))\n",
    "plt.imshow(image.squeeze(), cmap='grey')\n",
    "plt.title(class_names[label])\n",
    "plt.axis = False"
   ]
  },
  {
   "cell_type": "code",
   "execution_count": 12,
   "id": "0055896a-e171-4c61-a1ce-b268e74651ac",
   "metadata": {
    "scrolled": true
   },
   "outputs": [
    {
     "data": {
      "image/png": "[encoded data removed]",
      "text/plain": [
       "<Figure size 500x500 with 9 Axes>"
      ]
     },
     "metadata": {},
     "output_type": "display_data"
    }
   ],
   "source": [
    "# torch.manual_seed(42)\n",
    "fig = plt.figure(figsize=(5,5))\n",
    "rows, cols = 3,3\n",
    "for i in range(1, rows * cols + 1):\n",
    "    random_idx = torch.randint(0, len(train_data), size=[1]).item()\n",
    "    image, label = train_data[random_idx]\n",
    "    fig.add_subplot(rows, cols, i)\n",
    "    plt.imshow(image.squeeze(), cmap='grey')\n",
    "    plt.title(class_names[label])\n",
    "    plt.axis = False\n",
    "    plt.tight_layout()"
   ]
  },
  {
   "cell_type": "code",
   "execution_count": 13,
   "id": "bfa108c8-5b27-43c9-a98d-4b63602a5f66",
   "metadata": {},
   "outputs": [
    {
     "data": {
      "text/plain": [
       "(Dataset FashionMNIST\n",
       "     Number of datapoints: 60000\n",
       "     Root location: data\n",
       "     Split: Train\n",
       "     StandardTransform\n",
       " Transform: ToTensor(),\n",
       " Dataset FashionMNIST\n",
       "     Number of datapoints: 10000\n",
       "     Root location: data\n",
       "     Split: Test\n",
       "     StandardTransform\n",
       " Transform: ToTensor())"
      ]
     },
     "execution_count": 13,
     "metadata": {},
     "output_type": "execute_result"
    }
   ],
   "source": [
    "train_data, test_data"
   ]
  },
  {
   "cell_type": "markdown",
   "id": "c5428096-209e-49c4-a53f-669803af16a1",
   "metadata": {},
   "source": [
    "### BATCHING"
   ]
  },
  {
   "cell_type": "code",
   "execution_count": 14,
   "id": "cef4a953-a326-4934-a81c-0b403821b50a",
   "metadata": {},
   "outputs": [],
   "source": [
    "from torch.utils.data import DataLoader"
   ]
  },
  {
   "cell_type": "code",
   "execution_count": 15,
   "id": "12138d70-9d31-4045-9ec6-9a3575363bc2",
   "metadata": {},
   "outputs": [],
   "source": [
    "BATCH_SIZE = 32\n",
    "train_dataloader = DataLoader(\n",
    "    dataset=train_data,\n",
    "    batch_size = BATCH_SIZE,\n",
    "    shuffle = True\n",
    ")\n",
    "\n",
    "test_dataloader = DataLoader(\n",
    "    dataset = test_data,\n",
    "    shuffle = False,\n",
    "    batch_size = BATCH_SIZE\n",
    ")"
   ]
  },
  {
   "cell_type": "code",
   "execution_count": 16,
   "id": "e8c26241-7afb-4165-ace6-4d2b241f06f8",
   "metadata": {},
   "outputs": [
    {
     "data": {
      "text/plain": [
       "(<torch.utils.data.dataloader.DataLoader at 0x1b494ee7890>,\n",
       " <torch.utils.data.dataloader.DataLoader at 0x1b494e946e0>)"
      ]
     },
     "execution_count": 16,
     "metadata": {},
     "output_type": "execute_result"
    }
   ],
   "source": [
    "train_dataloader, test_dataloader"
   ]
  },
  {
   "cell_type": "code",
   "execution_count": 17,
   "id": "21ba3552-8ef5-4608-9493-67abaea170fd",
   "metadata": {},
   "outputs": [],
   "source": [
    "# train_dataloader.__getitem__() this is something different, check later"
   ]
  },
  {
   "cell_type": "code",
   "execution_count": 18,
   "id": "9c0065eb-957a-43ad-8953-881876e4c84f",
   "metadata": {},
   "outputs": [
    {
     "data": {
      "text/plain": [
       "(1875, 313)"
      ]
     },
     "execution_count": 18,
     "metadata": {},
     "output_type": "execute_result"
    }
   ],
   "source": [
    "len(train_dataloader), len(test_dataloader)"
   ]
  },
  {
   "cell_type": "code",
   "execution_count": 19,
   "id": "0c1b8442-acf2-46be-afb5-e543ee80e14f",
   "metadata": {},
   "outputs": [
    {
     "data": {
      "text/plain": [
       "(torch.Size([32, 1, 28, 28]), torch.Size([32]))"
      ]
     },
     "execution_count": 19,
     "metadata": {},
     "output_type": "execute_result"
    }
   ],
   "source": [
    "train_features_batch, train_labels_batch = next(iter(train_dataloader))\n",
    "train_features_batch.shape, train_labels_batch.shape"
   ]
  },
  {
   "cell_type": "code",
   "execution_count": 20,
   "id": "6ce94b9d-dc2d-4943-9f70-5f0e6d27fb53",
   "metadata": {
    "scrolled": true
   },
   "outputs": [
    {
     "data": {
      "text/plain": [
       "Text(0.5, 1.0, 'T-shirt/top')"
      ]
     },
     "execution_count": 20,
     "metadata": {},
     "output_type": "execute_result"
    },
    {
     "data": {
      "image/png": "[encoded data removed]",
      "text/plain": [
       "<Figure size 640x480 with 1 Axes>"
      ]
     },
     "metadata": {},
     "output_type": "display_data"
    }
   ],
   "source": [
    "# torch.manual_seed(42)\n",
    "random_idx = torch.randint(0, len(train_features_batch), size = [1]).item()\n",
    "img, label = train_features_batch[random_idx], train_labels_batch[random_idx]\n",
    "plt.imshow(img.squeeze(), cmap='grey')\n",
    "plt.title(class_names[label])"
   ]
  },
  {
   "cell_type": "markdown",
   "id": "68267516-a611-4dc3-b596-eb3d49b094b3",
   "metadata": {},
   "source": [
    "### BASELINE"
   ]
  },
  {
   "cell_type": "code",
   "execution_count": 21,
   "id": "d2ceb006-f352-4c6d-a1e6-4e61a6ceb594",
   "metadata": {
    "scrolled": true
   },
   "outputs": [
    {
     "data": {
      "text/plain": [
       "torch.Size([1, 28, 28])"
      ]
     },
     "execution_count": 21,
     "metadata": {},
     "output_type": "execute_result"
    }
   ],
   "source": [
    "train_features_batch[0].shape"
   ]
  },
  {
   "cell_type": "code",
   "execution_count": 22,
   "id": "0df55167-0dd0-4792-ba95-1d7c880a65a9",
   "metadata": {},
   "outputs": [
    {
     "data": {
      "text/plain": [
       "torch.Size([1, 784])"
      ]
     },
     "execution_count": 22,
     "metadata": {},
     "output_type": "execute_result"
    }
   ],
   "source": [
    "flatten_model = nn.Flatten()\n",
    "op = flatten_model(train_features_batch[0])\n",
    "op.shape"
   ]
  },
  {
   "cell_type": "code",
   "execution_count": 23,
   "id": "0d3a6f56-6eb5-41a1-889d-3b7a82289cf3",
   "metadata": {},
   "outputs": [],
   "source": [
    "class MNIST_V0(nn.Module):\n",
    "    def __init__(self, input_features = 28*28, output_features = len(class_names), hidden_neurons = 16):\n",
    "        super().__init__()\n",
    "        self.flatten_block = nn.Sequential(\n",
    "            nn.Flatten()\n",
    "        )\n",
    "\n",
    "        self.block1 = nn.Sequential(\n",
    "            nn.Linear(in_features = input_features, out_features = hidden_neurons),\n",
    "            nn.ReLU(),\n",
    "            nn.Linear(in_features = hidden_neurons, out_features = hidden_neurons),\n",
    "            nn.ReLU(),\n",
    "            nn.Linear(in_features = hidden_neurons, out_features = output_features)\n",
    "        )\n",
    " \n",
    "    def forward(self, x):\n",
    "        x = self.flatten_block(x)\n",
    "        x = self.block1(x)\n",
    "        return x"
   ]
  },
  {
   "cell_type": "code",
   "execution_count": 24,
   "id": "71b635c6-d9ab-4835-9717-8a7152beb1e1",
   "metadata": {
    "scrolled": true
   },
   "outputs": [],
   "source": [
    "torch.manual_seed(42)\n",
    "model0 = MNIST_V0().to('cpu')"
   ]
  },
  {
   "cell_type": "code",
   "execution_count": 25,
   "id": "74fb8a6f-0be8-4f28-b170-2c482ca5582e",
   "metadata": {},
   "outputs": [
    {
     "data": {
      "text/plain": [
       "32"
      ]
     },
     "execution_count": 25,
     "metadata": {},
     "output_type": "execute_result"
    }
   ],
   "source": [
    "len(train_features_batch) ## 128 images in a batch"
   ]
  },
  {
   "cell_type": "code",
   "execution_count": 26,
   "id": "81b94fa4-4a7f-4a15-adeb-24dab20f244f",
   "metadata": {
    "scrolled": true
   },
   "outputs": [
    {
     "data": {
      "text/plain": [
       "torch.Size([32, 10])"
      ]
     },
     "execution_count": 26,
     "metadata": {},
     "output_type": "execute_result"
    }
   ],
   "source": [
    "model0(train_features_batch).shape ## there can be 10 values for a single image, there are 128 images.."
   ]
  },
  {
   "cell_type": "code",
   "execution_count": 27,
   "id": "7b1a9fe5-f9ae-4c82-a305-78b7535e56ea",
   "metadata": {},
   "outputs": [],
   "source": [
    "loss_func = nn.CrossEntropyLoss()\n",
    "optimizer = torch.optim.SGD(params=model0.parameters(), lr=0.1)"
   ]
  },
  {
   "cell_type": "code",
   "execution_count": 28,
   "id": "c033a615-26d3-47e4-8ca4-00477690c699",
   "metadata": {},
   "outputs": [
    {
     "data": {
      "application/vnd.jupyter.widget-view+json": {
       "model_id": "54a582bebd854f0bb0dcf64dcd7761d8",
       "version_major": 2,
       "version_minor": 0
      },
      "text/plain": [
       "  0%|          | 0/3 [00:00<?, ?it/s]"
      ]
     },
     "metadata": {},
     "output_type": "display_data"
    },
    {
     "name": "stdout",
     "output_type": "stream",
     "text": [
      "EPOCH : 1 \n",
      "---- \n",
      "Looked at 0 / 60000 smaples.\n",
      "Looked at 12800 / 60000 smaples.\n",
      "Looked at 25600 / 60000 smaples.\n",
      "Looked at 38400 / 60000 smaples.\n",
      "Looked at 51200 / 60000 smaples.\n",
      "Train loss : 0.65797 | Test loss : 0.48257 | Test acc : 82.21% | Train acc : 75.85%\n",
      "EPOCH : 2 \n",
      "---- \n",
      "Looked at 0 / 60000 smaples.\n",
      "Looked at 12800 / 60000 smaples.\n",
      "Looked at 25600 / 60000 smaples.\n",
      "Looked at 38400 / 60000 smaples.\n",
      "Looked at 51200 / 60000 smaples.\n",
      "Train loss : 0.45984 | Test loss : 0.49253 | Test acc : 81.99% | Train acc : 83.29%\n",
      "EPOCH : 3 \n",
      "---- \n",
      "Looked at 0 / 60000 smaples.\n",
      "Looked at 12800 / 60000 smaples.\n",
      "Looked at 25600 / 60000 smaples.\n",
      "Looked at 38400 / 60000 smaples.\n",
      "Looked at 51200 / 60000 smaples.\n",
      "Train loss : 0.41952 | Test loss : 0.45026 | Test acc : 83.52% | Train acc : 84.78%\n"
     ]
    }
   ],
   "source": [
    "from tqdm.notebook import tqdm as tqdm\n",
    "torch.manual_seed(42)\n",
    "\n",
    "epochs = 3\n",
    "\n",
    "for epoch in tqdm(range(1, epochs+1)):\n",
    "    print(f\"EPOCH : {epoch} \\n---- \")\n",
    "    total_train_loss, total_train_acc = 0, 0\n",
    "    for batch, (X_train, y_train) in enumerate(train_dataloader):\n",
    "        ## put the model in train mode\n",
    "        model0.train()\n",
    "        ## get the train preds ( logits and lables)\n",
    "        train_logits = model0(X_train)\n",
    "        train_preds = torch.argmax(torch.softmax(train_logits, dim=1), dim=1)\n",
    "        ## calculate the train loss for a batch and the add it to total_train_loss\n",
    "        ## train loss is calculated with logits and not labels\n",
    "        ## to check train acc we can use train labels\n",
    "        # print(len(train_preds))\n",
    "        train_loss = loss_func(train_logits, y_train)\n",
    "        total_train_loss += train_loss\n",
    "        train_acc = helper_functions.accuracy_fn(y_pred=train_preds, y_true = y_train)\n",
    "        total_train_acc += train_acc\n",
    "        ## zero_grad the mode\n",
    "        ## we can zero grad the optimizer also, but doing that is not preferred, why ?\n",
    "        model0.zero_grad()\n",
    "        ## backprop\n",
    "        ## we will backprop on batch_loss and not the whole loss\n",
    "        train_loss.backward()\n",
    "        ## updates\n",
    "        optimizer.step()\n",
    "        ## look at how many images have beed trained\n",
    "        if batch % 400 == 0:\n",
    "            print(f\"Looked at {batch * len(X_train)} / {len(train_dataloader.dataset)} smaples.\")\n",
    "    ## since total loss was calc above we are avg. it (loss and acc)\n",
    "    total_train_loss /= len(train_dataloader)\n",
    "    total_train_acc /= len(train_dataloader)\n",
    "\n",
    "    ## TEST loop\n",
    "    total_test_loss, total_test_acc = 0, 0\n",
    "    model0.eval()\n",
    "    with torch.inference_mode():\n",
    "        ## there are test bactches and from those batches we are taking images as X_test and labels as y_test\n",
    "        for (X_test, y_test) in (test_dataloader):\n",
    "            ## forward calculates logits then we take argmax with softmax to calculates label preds\n",
    "            test_logits = model0(X_test)\n",
    "            test_preds = torch.argmax(torch.softmax(test_logits, dim=1), dim=1)\n",
    "            ## loss and acc\n",
    "            ## loss is calc with logits and acc is calc with preds\n",
    "            test_loss = loss_func(test_logits, y_test)\n",
    "            total_test_loss += test_loss\n",
    "            test_acc = helper_functions.accuracy_fn(y_true = y_test, y_pred = test_preds)\n",
    "            total_test_acc += test_acc\n",
    "        ## avg. loss and acc\n",
    "        total_test_loss /= len(test_dataloader)\n",
    "        total_test_acc /= len(test_dataloader)\n",
    "\n",
    "    print(f\"Train loss : {total_train_loss:.5f} | Test loss : {total_test_loss:.5f} | Test acc : {total_test_acc:.2f}% | Train acc : {total_train_acc:.2f}%\")"
   ]
  },
  {
   "cell_type": "markdown",
   "id": "d36a3b6c-390d-4cfe-8271-f89639690d34",
   "metadata": {},
   "source": [
    "### Make model predictions"
   ]
  },
  {
   "cell_type": "code",
   "execution_count": 29,
   "id": "161a7868-f3bd-401d-a309-53fbb84b036e",
   "metadata": {},
   "outputs": [],
   "source": [
    "torch.manual_seed(42)\n",
    "def eval_model(model: torch.nn.Module,\n",
    "               dataloader: torch.utils.data.DataLoader,\n",
    "               loss_func: torch.nn.Module,\n",
    "               accuracy_func: helper_functions.accuracy_fn,\n",
    "               device: torch.device = 'cpu'):\n",
    "\n",
    "    total_loss, total_acc = 0, 0\n",
    "    model.eval()\n",
    "    model = model.to(device)\n",
    "    with torch.inference_mode():\n",
    "        for X_test, y_test in tqdm(dataloader):\n",
    "            X_test = X_test.to(device)\n",
    "            y_test = y_test.to(device)    \n",
    "            test_logits = model(X_test)\n",
    "            test_preds = torch.argmax(torch.softmax(test_logits, dim=1), dim=1)\n",
    "\n",
    "            total_loss += loss_func(test_logits, y_test)\n",
    "            total_acc += accuracy_func(y_true = y_test, y_pred = test_preds)\n",
    "        \n",
    "        total_loss /= len(dataloader)\n",
    "        total_acc /= len(dataloader)\n",
    "    return {\"model_name\":model.__class__.__name__,\n",
    "            \"model_loss\":total_loss.item(),\n",
    "            \"model_acc\":total_acc}"
   ]
  },
  {
   "cell_type": "code",
   "execution_count": 30,
   "id": "c16f972c-2655-432d-8f63-e5bd60935390",
   "metadata": {},
   "outputs": [
    {
     "data": {
      "application/vnd.jupyter.widget-view+json": {
       "model_id": "a35723beb84b4f97bedc919920277273",
       "version_major": 2,
       "version_minor": 0
      },
      "text/plain": [
       "  0%|          | 0/313 [00:00<?, ?it/s]"
      ]
     },
     "metadata": {},
     "output_type": "display_data"
    }
   ],
   "source": [
    "model0_results = eval_model(model=model0, \n",
    "                            dataloader=test_dataloader, \n",
    "                            loss_func=loss_func, \n",
    "                            accuracy_func=helper_functions.accuracy_fn)"
   ]
  },
  {
   "cell_type": "code",
   "execution_count": 31,
   "id": "56f03460-ad79-4729-bfcc-04a532c75337",
   "metadata": {},
   "outputs": [
    {
     "data": {
      "text/plain": [
       "{'model_name': 'MNIST_V0',\n",
       " 'model_loss': 0.45026063919067383,\n",
       " 'model_acc': 83.51637380191693}"
      ]
     },
     "execution_count": 31,
     "metadata": {},
     "output_type": "execute_result"
    }
   ],
   "source": [
    "model0_results"
   ]
  },
  {
   "cell_type": "markdown",
   "id": "95e66874-868e-409e-9566-81eb10943d07",
   "metadata": {},
   "source": [
    "# ON GPU"
   ]
  },
  {
   "cell_type": "code",
   "execution_count": 32,
   "id": "a8ec1d3f-e5ac-449f-8089-c11db50371d6",
   "metadata": {},
   "outputs": [
    {
     "data": {
      "text/plain": [
       "'cuda'"
      ]
     },
     "execution_count": 32,
     "metadata": {},
     "output_type": "execute_result"
    }
   ],
   "source": [
    "device = \"cuda\" if torch.cuda.is_available() else \"cpu\"\n",
    "device"
   ]
  },
  {
   "cell_type": "code",
   "execution_count": 33,
   "id": "f3ec620d-b81c-453e-8109-2538f1e2fda5",
   "metadata": {},
   "outputs": [],
   "source": [
    "torch.manual_seed(42)\n",
    "model1 = MNIST_V0(input_features=784, output_features=len(class_names))"
   ]
  },
  {
   "cell_type": "code",
   "execution_count": 34,
   "id": "5f176a81-955e-4d00-8a35-5e258f718300",
   "metadata": {},
   "outputs": [],
   "source": [
    "loss_func = nn.CrossEntropyLoss()\n",
    "optimizer = torch.optim.SGD(params=model1.parameters(), lr=0.1)"
   ]
  },
  {
   "cell_type": "code",
   "execution_count": 35,
   "id": "87197656-549a-4fbc-a962-1571d33bdfee",
   "metadata": {},
   "outputs": [],
   "source": [
    "def classification_train_step(model: nn.Module,\n",
    "                              dataloader: torch.utils.data.DataLoader,\n",
    "                              loss_func = nn.Module,\n",
    "                              optimizer = torch.optim,\n",
    "                              accuracy_func = helper_functions.accuracy_fn,\n",
    "                              device = torch.device):\n",
    "    \"\"\" TRAIN  STEP FOR CLASSIFICATION MODEL\"\"\"\n",
    "    total_train_loss, total_train_acc = 0, 0\n",
    "    model = model.to(device)\n",
    "    for batch, (X_train, y_train) in enumerate(dataloader):\n",
    "        X_train = X_train.to(device)\n",
    "        y_train = y_train.to(device)\n",
    "        ## put the model in train mode\n",
    "        model.train()\n",
    "        ## get the train preds ( logits and lables)\n",
    "        train_logits = model(X_train)\n",
    "        train_preds = torch.argmax(torch.softmax(train_logits, dim=1), dim=1)\n",
    "        ## calculate the train loss for a batch and the add it to total_train_loss\n",
    "        ## train loss is calculated with logits and not labels\n",
    "        ## to check train acc we can use train labels\n",
    "        # print(len(train_preds))\n",
    "        train_loss = loss_func(train_logits, y_train)\n",
    "        total_train_loss += train_loss\n",
    "        train_acc = helper_functions.accuracy_fn(y_pred=train_preds, y_true = y_train)\n",
    "        total_train_acc += train_acc\n",
    "        ## zero_grad the mode\n",
    "        ## we can zero grad the optimizer also, but doing that is not preferred, why ?\n",
    "        model.zero_grad()\n",
    "        ## backprop\n",
    "        ## we will backprop on batch_loss and not the whole loss\n",
    "        train_loss.backward()\n",
    "        ## updates\n",
    "        optimizer.step()\n",
    "        ## look at how many images have beed trained\n",
    "    ## since total loss was calc above we are avg. it (loss and acc)\n",
    "    total_train_loss /= len(train_dataloader)\n",
    "    total_train_acc /= len(train_dataloader)\n",
    "\n",
    "    print(f\"Train loss : {total_train_loss:.5f} | Train acc : {total_train_acc:.2f}%\")"
   ]
  },
  {
   "cell_type": "code",
   "execution_count": 36,
   "id": "2a3ca24d-714b-420f-9754-46f7ffe8532e",
   "metadata": {},
   "outputs": [],
   "source": [
    "def classification_test_step(model: nn.Module,\n",
    "                              dataloader: torch.utils.data.DataLoader,\n",
    "                              loss_func = nn.Module,\n",
    "                              accuracy_func = helper_functions.accuracy_fn,\n",
    "                              device = torch.device):\n",
    "    \"\"\" TEST STEP FOR CLASSIFICATION MODEL\"\"\"\n",
    "    total_test_loss, total_test_acc = 0, 0\n",
    "    model = model.to(device)\n",
    "    model.eval()\n",
    "    with torch.inference_mode():\n",
    "        ## there are test bactches and from those batches we are taking images as X_test and labels as y_test\n",
    "        for (X_test, y_test) in (dataloader):\n",
    "            X_test = X_test.to(device)\n",
    "            y_test = y_test.to(device)\n",
    "            ## forward calculates logits then we take argmax with softmax to calculates label preds\n",
    "            test_logits = model(X_test)\n",
    "            test_preds = torch.argmax(torch.softmax(test_logits, dim=1), dim=1)\n",
    "            ## loss and acc\n",
    "            ## loss is calc with logits and acc is calc with preds\n",
    "            test_loss = loss_func(test_logits, y_test)\n",
    "            total_test_loss += test_loss\n",
    "            test_acc = helper_functions.accuracy_fn(y_true = y_test, y_pred = test_preds)\n",
    "            total_test_acc += test_acc\n",
    "        ## avg. loss and acc\n",
    "        total_test_loss /= len(test_dataloader)\n",
    "        total_test_acc /= len(test_dataloader)\n",
    "        \n",
    "    print(f\"Test loss : {total_test_loss:.5f} | Test acc : {total_test_acc:.2f}%\")"
   ]
  },
  {
   "cell_type": "code",
   "execution_count": 37,
   "id": "26661b04-bdb0-496c-81cf-e968c3b12002",
   "metadata": {},
   "outputs": [
    {
     "data": {
      "application/vnd.jupyter.widget-view+json": {
       "model_id": "f20d11e24602440e812fce280bc430f8",
       "version_major": 2,
       "version_minor": 0
      },
      "text/plain": [
       "  0%|          | 0/3 [00:00<?, ?it/s]"
      ]
     },
     "metadata": {},
     "output_type": "display_data"
    },
    {
     "name": "stdout",
     "output_type": "stream",
     "text": [
      "Train loss : 0.67093 | Train acc : 75.16%\n",
      "Test loss : 0.52879 | Test acc : 80.11%\n",
      "Train loss : 0.46967 | Train acc : 82.97%\n",
      "Test loss : 0.48115 | Test acc : 82.90%\n",
      "Train loss : 0.43020 | Train acc : 84.43%\n",
      "Test loss : 0.44095 | Test acc : 84.13%\n"
     ]
    }
   ],
   "source": [
    "epochs = 3\n",
    "for epoch in tqdm(range(epochs)):\n",
    "    classification_train_step(model= model1, \n",
    "                              dataloader=train_dataloader, \n",
    "                              device = device,\n",
    "                              optimizer=optimizer, \n",
    "                              loss_func=loss_func)\n",
    "    classification_test_step(model= model1, \n",
    "                              dataloader=test_dataloader, \n",
    "                              device = device,\n",
    "                              loss_func=loss_func)"
   ]
  },
  {
   "cell_type": "code",
   "execution_count": 38,
   "id": "9e3050a9-6e26-4704-a254-349c2ff54f5c",
   "metadata": {},
   "outputs": [
    {
     "data": {
      "application/vnd.jupyter.widget-view+json": {
       "model_id": "e825b8372ccd4747a517c6ad286f4fed",
       "version_major": 2,
       "version_minor": 0
      },
      "text/plain": [
       "  0%|          | 0/313 [00:00<?, ?it/s]"
      ]
     },
     "metadata": {},
     "output_type": "display_data"
    }
   ],
   "source": [
    "model1_results = eval_model(model=model1, \n",
    "                            dataloader=test_dataloader, \n",
    "                            loss_func=loss_func, \n",
    "                            accuracy_func=helper_functions.accuracy_fn)"
   ]
  },
  {
   "cell_type": "code",
   "execution_count": 39,
   "id": "80f66c90-a4e3-4851-a928-a219c5938ab4",
   "metadata": {},
   "outputs": [
    {
     "data": {
      "text/plain": [
       "({'model_name': 'MNIST_V0',\n",
       "  'model_loss': 0.45026063919067383,\n",
       "  'model_acc': 83.51637380191693},\n",
       " {'model_name': 'MNIST_V0',\n",
       "  'model_loss': 0.4409516155719757,\n",
       "  'model_acc': 84.12539936102236})"
      ]
     },
     "execution_count": 39,
     "metadata": {},
     "output_type": "execute_result"
    }
   ],
   "source": [
    "model0_results, model1_results"
   ]
  },
  {
   "cell_type": "markdown",
   "id": "657b9611-9c0c-4645-ba4c-9e2ca2972a95",
   "metadata": {},
   "source": [
    "## CNN"
   ]
  },
  {
   "cell_type": "code",
   "execution_count": 49,
   "id": "4f09b31f-58b1-4894-b546-7acb7f5325a4",
   "metadata": {},
   "outputs": [],
   "source": [
    "class FashinMNIST_V2(nn.Module):\n",
    "    def __init__(self, input_shape: int, output_shape: int, hidden_units: int):\n",
    "        super().__init__()\n",
    "        self.conv_block1 = nn.Sequential(\n",
    "            nn.Conv2d(in_channels=input_shape, \n",
    "                      out_channels=hidden_units,\n",
    "                      kernel_size = 3,\n",
    "                      stride=1,\n",
    "                      padding=1),\n",
    "            nn.ReLU(),\n",
    "            nn.Conv2d(in_channels=hidden_units, \n",
    "                      out_channels=hidden_units, \n",
    "                      kernel_size=3,\n",
    "                      stride=1,\n",
    "                      padding=1),\n",
    "            nn.ReLU(),\n",
    "            nn.MaxPool2d(kernel_size=2, stride=2)\n",
    "        )\n",
    "        self.conv_block2 = nn.Sequential(\n",
    "            nn.Conv2d(in_channels=hidden_units,\n",
    "                      out_channels=hidden_units,\n",
    "                      kernel_size=3,\n",
    "                      stride=1,\n",
    "                      padding=1),\n",
    "            nn.ReLU(),\n",
    "            nn.Conv2d(in_channels=hidden_units,\n",
    "                      out_channels=hidden_units,\n",
    "                      kernel_size=3,\n",
    "                      stride=1,\n",
    "                      padding=1),\n",
    "            nn.MaxPool2d(kernel_size=2)\n",
    "        )\n",
    "        self.classifier = nn.Sequential(\n",
    "            nn.Flatten(),\n",
    "            nn.Linear(in_features = hidden_units*7*7, \n",
    "                      out_features=output_shape)\n",
    "        )\n",
    "    def forward(self, x):\n",
    "        x = self.conv_block1(x)\n",
    "        #print(x.shape)\n",
    "        x = self.conv_block2(x)\n",
    "        #print(x.shape)\n",
    "        x = self.classifier(x)\n",
    "        #print(x.shape)\n",
    "        return x"
   ]
  },
  {
   "cell_type": "code",
   "execution_count": 50,
   "id": "e740096d-ceb5-4dda-ae59-6fe7e335e598",
   "metadata": {},
   "outputs": [],
   "source": [
    "torch.manual_seed(42)\n",
    "model2 = FashinMNIST_V2(input_shape=1,\n",
    "                        output_shape=len(class_names),\n",
    "                        hidden_units = 10).to(device)"
   ]
  },
  {
   "cell_type": "code",
   "execution_count": 51,
   "id": "ccb132e0-7947-4b00-bab3-e2718fa5d473",
   "metadata": {
    "scrolled": true
   },
   "outputs": [
    {
     "data": {
      "text/plain": [
       "FashinMNIST_V2(\n",
       "  (conv_block1): Sequential(\n",
       "    (0): Conv2d(1, 10, kernel_size=(3, 3), stride=(1, 1), padding=(1, 1))\n",
       "    (1): ReLU()\n",
       "    (2): Conv2d(10, 10, kernel_size=(3, 3), stride=(1, 1), padding=(1, 1))\n",
       "    (3): ReLU()\n",
       "    (4): MaxPool2d(kernel_size=2, stride=2, padding=0, dilation=1, ceil_mode=False)\n",
       "  )\n",
       "  (conv_block2): Sequential(\n",
       "    (0): Conv2d(10, 10, kernel_size=(3, 3), stride=(1, 1), padding=(1, 1))\n",
       "    (1): ReLU()\n",
       "    (2): Conv2d(10, 10, kernel_size=(3, 3), stride=(1, 1), padding=(1, 1))\n",
       "    (3): MaxPool2d(kernel_size=2, stride=2, padding=0, dilation=1, ceil_mode=False)\n",
       "  )\n",
       "  (classifier): Sequential(\n",
       "    (0): Flatten(start_dim=1, end_dim=-1)\n",
       "    (1): Linear(in_features=490, out_features=10, bias=True)\n",
       "  )\n",
       ")"
      ]
     },
     "execution_count": 51,
     "metadata": {},
     "output_type": "execute_result"
    }
   ],
   "source": [
    "model2"
   ]
  },
  {
   "cell_type": "markdown",
   "id": "db884384-1428-4463-b644-600b347ab162",
   "metadata": {},
   "source": [
    "### Test run to verify shape"
   ]
  },
  {
   "cell_type": "code",
   "execution_count": 52,
   "id": "d014a175-000b-4f71-b170-f7991b360bbe",
   "metadata": {},
   "outputs": [
    {
     "data": {
      "text/plain": [
       "torch.Size([1, 28, 28])"
      ]
     },
     "execution_count": 52,
     "metadata": {},
     "output_type": "execute_result"
    }
   ],
   "source": [
    "rand_image_tensor = torch.randn(size=(1,28,28))\n",
    "rand_image_tensor.shape"
   ]
  },
  {
   "cell_type": "code",
   "execution_count": 53,
   "id": "135032c7-2e33-430c-b03d-9748d72cad78",
   "metadata": {},
   "outputs": [
    {
     "data": {
      "text/plain": [
       "tensor([[ 0.0276, -0.0354,  0.0448, -0.0097, -0.0473,  0.0209,  0.0434, -0.0504,\n",
       "          0.0213, -0.0634]], device='cuda:0', grad_fn=<AddmmBackward0>)"
      ]
     },
     "execution_count": 53,
     "metadata": {},
     "output_type": "execute_result"
    }
   ],
   "source": [
    "model2(rand_image_tensor.unsqueeze(0).to(device))"
   ]
  },
  {
   "cell_type": "code",
   "execution_count": 54,
   "id": "3d565610-2ee6-42dd-a90f-77a500106440",
   "metadata": {},
   "outputs": [
    {
     "data": {
      "text/plain": [
       "<matplotlib.image.AxesImage at 0x1b4950bb980>"
      ]
     },
     "execution_count": 54,
     "metadata": {},
     "output_type": "execute_result"
    },
    {
     "data": {
      "image/png": "[encoded data removed]",
      "text/plain": [
       "<Figure size 640x480 with 1 Axes>"
      ]
     },
     "metadata": {},
     "output_type": "display_data"
    }
   ],
   "source": [
    "plt.imshow(rand_image_tensor.squeeze(), cmap='grey')"
   ]
  },
  {
   "cell_type": "markdown",
   "id": "08ff3f7c-4bcf-4dc7-88ad-b1cd43a6b949",
   "metadata": {},
   "source": [
    "### Optimizers and loss functions"
   ]
  },
  {
   "cell_type": "code",
   "execution_count": 55,
   "id": "6d57533a-5670-49f5-b9ec-c4e0c24e4625",
   "metadata": {},
   "outputs": [],
   "source": [
    "from helper_functions import accuracy_fn\n",
    "loss_func = nn.CrossEntropyLoss()\n",
    "optimizer = torch.optim.SGD(params = model2.parameters(), lr=0.1)"
   ]
  },
  {
   "cell_type": "code",
   "execution_count": 56,
   "id": "a4717de1-6b7e-4ddf-80b2-088da6990f55",
   "metadata": {},
   "outputs": [
    {
     "data": {
      "application/vnd.jupyter.widget-view+json": {
       "model_id": "077080e72ff942feaf488d134ba7add8",
       "version_major": 2,
       "version_minor": 0
      },
      "text/plain": [
       "  0%|          | 0/3 [00:00<?, ?it/s]"
      ]
     },
     "metadata": {},
     "output_type": "display_data"
    },
    {
     "name": "stdout",
     "output_type": "stream",
     "text": [
      "Train loss : 0.52713 | Train acc : 80.99%\n",
      "Test loss : 0.36812 | Test acc : 86.70%\n",
      "Train loss : 0.34777 | Train acc : 87.58%\n",
      "Test loss : 0.34898 | Test acc : 87.69%\n",
      "Train loss : 0.31216 | Train acc : 88.89%\n",
      "Test loss : 0.32608 | Test acc : 88.09%\n"
     ]
    }
   ],
   "source": [
    "torch.manual_seed(42)\n",
    "torch.cuda.manual_seed(42)\n",
    "epochs = 3\n",
    "for epoch in tqdm(range(epochs)):\n",
    "    classification_train_step(model=model2, \n",
    "                              dataloader=train_dataloader, \n",
    "                              loss_func=loss_func, \n",
    "                              optimizer=optimizer,\n",
    "                              device=device)\n",
    "    \n",
    "    classification_test_step(model=model2, \n",
    "                             dataloader=test_dataloader, \n",
    "                             loss_func=loss_func, \n",
    "                             accuracy_func=accuracy_fn,\n",
    "                             device=device)"
   ]
  },
  {
   "cell_type": "code",
   "execution_count": 59,
   "id": "12de760d-f1c1-421d-b294-3763de594cb8",
   "metadata": {},
   "outputs": [
    {
     "data": {
      "application/vnd.jupyter.widget-view+json": {
       "model_id": "246d36d0b5a342a0a60a9813f4de4609",
       "version_major": 2,
       "version_minor": 0
      },
      "text/plain": [
       "  0%|          | 0/313 [00:00<?, ?it/s]"
      ]
     },
     "metadata": {},
     "output_type": "display_data"
    }
   ],
   "source": [
    "model2_results = eval_model(model=model2, \n",
    "                            dataloader=test_dataloader, \n",
    "                            loss_func=loss_func,\n",
    "                            accuracy_func=accuracy_fn,\n",
    "                            device=device)"
   ]
  },
  {
   "cell_type": "code",
   "execution_count": 61,
   "id": "995f645b-5b14-4cd4-95c9-a42ec57631dd",
   "metadata": {},
   "outputs": [
    {
     "data": {
      "text/plain": [
       "{'model_name': 'FashinMNIST_V2',\n",
       " 'model_loss': 0.3260805010795593,\n",
       " 'model_acc': 88.08905750798722}"
      ]
     },
     "execution_count": 61,
     "metadata": {},
     "output_type": "execute_result"
    }
   ],
   "source": [
    "model2_results"
   ]
  },
  {
   "cell_type": "markdown",
   "id": "ce8d564c-86e5-47ac-b3bd-cebc0219b563",
   "metadata": {},
   "source": [
    "### confusion matrix"
   ]
  },
  {
   "cell_type": "code",
   "execution_count": 67,
   "id": "62150d2e-15c1-4c97-ac96-ab1fb39e0796",
   "metadata": {},
   "outputs": [],
   "source": [
    "from torchmetrics import ConfusionMatrix"
   ]
  },
  {
   "cell_type": "code",
   "execution_count": null,
   "id": "d8fbfc06-35c4-47db-8198-2585be01e2f2",
   "metadata": {},
   "outputs": [],
   "source": [
    "y_preds = []\n",
    "model2.eval()\n",
    "with torch.inference_mode():\n",
    "    X_test, y_test = X_test.to(device), y.to(device)\n",
    "    y_logits = model2(X_test)\n",
    "    y_preds = torch.softmax(torch.argmax(y_logits, dim=1)"
   ]
  },
  {
   "cell_type": "code",
   "execution_count": null,
   "id": "ae7fcdda-5c55-499d-96ad-a0ee38a854c7",
   "metadata": {},
   "outputs": [],
   "source": []
  },
  {
   "cell_type": "code",
   "execution_count": null,
   "id": "4ca5b307-cc95-428c-a70b-6ad08c27315e",
   "metadata": {},
   "outputs": [],
   "source": []
  },
  {
   "cell_type": "code",
   "execution_count": null,
   "id": "5edd26df-242b-4ccf-9a3d-98674837f7b7",
   "metadata": {},
   "outputs": [],
   "source": []
  },
  {
   "cell_type": "code",
   "execution_count": null,
   "id": "3eaac22a-6103-4f4b-84f9-a3febeb23c75",
   "metadata": {},
   "outputs": [],
   "source": []
  },
  {
   "cell_type": "code",
   "execution_count": null,
   "id": "ff09b39d-9aaa-4e95-aaa7-4c1d75f830ef",
   "metadata": {},
   "outputs": [],
   "source": []
  },
  {
   "cell_type": "code",
   "execution_count": null,
   "id": "a6bab295-587e-4f30-a214-083ec9fad68d",
   "metadata": {},
   "outputs": [],
   "source": []
  },
  {
   "cell_type": "code",
   "execution_count": null,
   "id": "9a86f9a8-9990-4b34-8800-a895188c22d2",
   "metadata": {},
   "outputs": [],
   "source": []
  },
  {
   "cell_type": "code",
   "execution_count": null,
   "id": "254ca908-7526-4e65-b81c-e4b0b510e2c5",
   "metadata": {},
   "outputs": [],
   "source": []
  },
  {
   "cell_type": "code",
   "execution_count": null,
   "id": "808143e6-2f7d-4d10-bae0-03b185004ce7",
   "metadata": {},
   "outputs": [],
   "source": []
  },
  {
   "cell_type": "code",
   "execution_count": null,
   "id": "b59cd1a9-b459-4d98-9a05-34a775d406b9",
   "metadata": {},
   "outputs": [],
   "source": []
  },
  {
   "cell_type": "code",
   "execution_count": null,
   "id": "5bf2aaa7-09be-42b3-9c6a-704e5daca957",
   "metadata": {},
   "outputs": [],
   "source": []
  }
 ],
 "metadata": {
  "kernelspec": {
   "display_name": "Python 3 (ipykernel)",
   "language": "python",
   "name": "python3"
  },
  "language_info": {
   "codemirror_mode": {
    "name": "ipython",
    "version": 3
   },
   "file_extension": ".py",
   "mimetype": "text/x-python",
   "name": "python",
   "nbconvert_exporter": "python",
   "pygments_lexer": "ipython3",
   "version": "3.12.5"
  }
 },
 "nbformat": 4,
 "nbformat_minor": 5
}
